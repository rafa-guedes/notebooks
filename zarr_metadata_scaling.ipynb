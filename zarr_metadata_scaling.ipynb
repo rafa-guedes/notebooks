{
 "cells": [
  {
   "cell_type": "markdown",
   "metadata": {},
   "source": [
    "## Reading zarr consolidated metadata depends on the number of chunks"
   ]
  },
  {
   "cell_type": "code",
   "execution_count": 4,
   "metadata": {},
   "outputs": [],
   "source": [
    "import os\n",
    "import glob\n",
    "import numpy as np\n",
    "import xarray as xr\n",
    "import dask.array as da\n",
    "import timeit"
   ]
  },
  {
   "cell_type": "markdown",
   "metadata": {},
   "source": [
    "### Functions to write and read dummy zarr stores"
   ]
  },
  {
   "cell_type": "code",
   "execution_count": 2,
   "metadata": {},
   "outputs": [],
   "source": [
    "NX = NY = NT = 20\n",
    "NV = 8\n",
    "\n",
    "def create_store(chunksize, store):\n",
    "    print(f\"\\nWriting zarr store with chunksize={chunksize}\")\n",
    "\n",
    "    dset = xr.Dataset()\n",
    "    darr = xr.DataArray(\n",
    "        data=da.zeros((NT, NY, NX), chunks=3 * (chunksize,)),\n",
    "        coords={\"time\": np.arange(NT), \"lat\": np.arange(NY), \"lon\": np.arange(NX)},\n",
    "        dims=(\"time\", \"lat\", \"lon\"),\n",
    "    )\n",
    "    for n in range(1, NV + 1):\n",
    "        dset[f\"v{n}\"] = darr\n",
    "    dset.to_zarr(store, consolidated=True, mode=\"w\")\n",
    "    print(dset)\n",
    "\n",
    "\n",
    "def read_metadata(store):\n",
    "    dset = xr.open_zarr(store, consolidated=True)\n",
    "    return dset"
   ]
  },
  {
   "cell_type": "markdown",
   "metadata": {},
   "source": [
    "### Create zarr stores with varying chunksizes"
   ]
  },
  {
   "cell_type": "code",
   "execution_count": 27,
   "metadata": {},
   "outputs": [
    {
     "name": "stdout",
     "output_type": "stream",
     "text": [
      "<xarray.Dataset>\n",
      "Dimensions:  (lat: 20, lon: 20, time: 20)\n",
      "Coordinates:\n",
      "  * lat      (lat) int64 0 1 2 3 4 5 6 7 8 9 10 11 12 13 14 15 16 17 18 19\n",
      "  * lon      (lon) int64 0 1 2 3 4 5 6 7 8 9 10 11 12 13 14 15 16 17 18 19\n",
      "  * time     (time) int64 0 1 2 3 4 5 6 7 8 9 10 11 12 13 14 15 16 17 18 19\n",
      "Data variables:\n",
      "    v1       (time, lat, lon) float64 dask.array<chunksize=(1, 1, 1), meta=np.ndarray>\n",
      "    v2       (time, lat, lon) float64 dask.array<chunksize=(1, 1, 1), meta=np.ndarray>\n",
      "    v3       (time, lat, lon) float64 dask.array<chunksize=(1, 1, 1), meta=np.ndarray>\n",
      "    v4       (time, lat, lon) float64 dask.array<chunksize=(1, 1, 1), meta=np.ndarray>\n",
      "    v5       (time, lat, lon) float64 dask.array<chunksize=(1, 1, 1), meta=np.ndarray>\n",
      "    v6       (time, lat, lon) float64 dask.array<chunksize=(1, 1, 1), meta=np.ndarray>\n",
      "    v7       (time, lat, lon) float64 dask.array<chunksize=(1, 1, 1), meta=np.ndarray>\n",
      "    v8       (time, lat, lon) float64 dask.array<chunksize=(1, 1, 1), meta=np.ndarray>\n",
      "\n",
      "<xarray.Dataset>\n",
      "Dimensions:  (lat: 20, lon: 20, time: 20)\n",
      "Coordinates:\n",
      "  * lat      (lat) int64 0 1 2 3 4 5 6 7 8 9 10 11 12 13 14 15 16 17 18 19\n",
      "  * lon      (lon) int64 0 1 2 3 4 5 6 7 8 9 10 11 12 13 14 15 16 17 18 19\n",
      "  * time     (time) int64 0 1 2 3 4 5 6 7 8 9 10 11 12 13 14 15 16 17 18 19\n",
      "Data variables:\n",
      "    v1       (time, lat, lon) float64 dask.array<chunksize=(20, 20, 20), meta=np.ndarray>\n",
      "    v2       (time, lat, lon) float64 dask.array<chunksize=(20, 20, 20), meta=np.ndarray>\n",
      "    v3       (time, lat, lon) float64 dask.array<chunksize=(20, 20, 20), meta=np.ndarray>\n",
      "    v4       (time, lat, lon) float64 dask.array<chunksize=(20, 20, 20), meta=np.ndarray>\n",
      "    v5       (time, lat, lon) float64 dask.array<chunksize=(20, 20, 20), meta=np.ndarray>\n",
      "    v6       (time, lat, lon) float64 dask.array<chunksize=(20, 20, 20), meta=np.ndarray>\n",
      "    v7       (time, lat, lon) float64 dask.array<chunksize=(20, 20, 20), meta=np.ndarray>\n",
      "    v8       (time, lat, lon) float64 dask.array<chunksize=(20, 20, 20), meta=np.ndarray>\n"
     ]
    }
   ],
   "source": [
    "chunksizes = [1, 2, 20]\n",
    "stores = [f\"store-chunk-{chunksize:02.0f}\" for chunksize in chunksizes]\n",
    "\n",
    "for chunksize, store in zip(chunksizes, stores):\n",
    "    if not os.path.isdir(store):\n",
    "        create_store(chunksize, store)\n",
    "\n",
    "print(read_metadata(\"store-chunk-01\"))\n",
    "print()\n",
    "print(read_metadata(\"store-chunk-20\"))"
   ]
  },
  {
   "cell_type": "markdown",
   "metadata": {},
   "source": [
    "### Read metadata from each store 50 times"
   ]
  },
  {
   "cell_type": "code",
   "execution_count": 10,
   "metadata": {},
   "outputs": [
    {
     "data": {
      "text/plain": [
       "{'64000 chunks': '1.15s', '8000 chunks': '0.29s', '8 chunks': '0.20s'}"
      ]
     },
     "execution_count": 10,
     "metadata": {},
     "output_type": "execute_result"
    }
   ],
   "source": [
    "nchunks = [NV * NT * NY * NX / (chunksize**3) for chunksize in chunksizes]\n",
    "\n",
    "results = {}\n",
    "for store, nchunk in zip(stores, nchunks):\n",
    "    result = timeit.timeit(f\"read_metadata('{store}')\", setup=\"from __main__ import read_metadata\", number=50)\n",
    "    results.update({f\"{nchunk:0.0f} chunks\": f\"{result:0.2f}s\"})\n",
    "results"
   ]
  },
  {
   "cell_type": "markdown",
   "metadata": {},
   "source": [
    "## Profiling"
   ]
  },
  {
   "cell_type": "markdown",
   "metadata": {},
   "source": [
    "### Fast store"
   ]
  },
  {
   "cell_type": "code",
   "execution_count": 18,
   "metadata": {},
   "outputs": [
    {
     "name": "stdout",
     "output_type": "stream",
     "text": [
      " "
     ]
    },
    {
     "data": {
      "text/plain": [
       "         17461 function calls (17117 primitive calls) in 0.020 seconds\n",
       "\n",
       "   Ordered by: internal time\n",
       "   List reduced from 472 to 10 due to restriction <10>\n",
       "\n",
       "   ncalls  tottime  percall  cumtime  percall filename:lineno(function)\n",
       "      262    0.001    0.000    0.002    0.000 indexing.py:556(shape)\n",
       "2931/2906    0.001    0.000    0.001    0.000 {built-in method builtins.isinstance}\n",
       "      135    0.000    0.000    0.003    0.000 variable.py:308(__init__)\n",
       "        6    0.000    0.000    0.000    0.000 {built-in method posix.stat}\n",
       "       98    0.000    0.000    0.001    0.000 util.py:277(normalize_storage_path)\n",
       "        4    0.000    0.000    0.000    0.000 {built-in method io.open}\n",
       "       24    0.000    0.000    0.001    0.000 core.py:2434(normalize_chunks)\n",
       "       11    0.000    0.000    0.004    0.000 conventions.py:262(decode_cf_variable)\n",
       "1619/1577    0.000    0.000    0.000    0.000 {built-in method builtins.len}\n",
       "       16    0.000    0.000    0.001    0.000 inspect.py:2112(_signature_from_function)"
      ]
     },
     "metadata": {},
     "output_type": "display_data"
    }
   ],
   "source": [
    "%prun -l 10 read_metadata(\"store-chunk-20\")"
   ]
  },
  {
   "cell_type": "markdown",
   "metadata": {},
   "source": [
    "### Slow store"
   ]
  },
  {
   "cell_type": "code",
   "execution_count": 20,
   "metadata": {},
   "outputs": [
    {
     "name": "stdout",
     "output_type": "stream",
     "text": [
      " "
     ]
    },
    {
     "data": {
      "text/plain": [
       "         20621 function calls (20277 primitive calls) in 0.185 seconds\n",
       "\n",
       "   Ordered by: internal time\n",
       "   List reduced from 472 to 10 due to restriction <10>\n",
       "\n",
       "   ncalls  tottime  percall  cumtime  percall filename:lineno(function)\n",
       "        8    0.116    0.015    0.139    0.017 core.py:222(getem)\n",
       "        8    0.012    0.002    0.012    0.002 core.py:259(<listcomp>)\n",
       "        8    0.008    0.001    0.009    0.001 core.py:203(slices_from_chunks)\n",
       "        1    0.005    0.005    0.185    0.185 <string>:1(<module>)\n",
       "      262    0.003    0.000    0.004    0.000 indexing.py:556(shape)\n",
       "2931/2906    0.001    0.000    0.002    0.000 {built-in method builtins.isinstance}\n",
       "       98    0.001    0.000    0.002    0.000 util.py:277(normalize_storage_path)\n",
       "        6    0.001    0.000    0.001    0.000 {built-in method posix.stat}\n",
       "        8    0.001    0.000    0.144    0.018 core.py:2760(from_array)\n",
       "      135    0.001    0.000    0.007    0.000 variable.py:308(__init__)"
      ]
     },
     "metadata": {},
     "output_type": "display_data"
    }
   ],
   "source": [
    "%prun -l 10 read_metadata(\"store-chunk-01\")\n"
   ]
  }
 ],
 "metadata": {
  "kernelspec": {
   "display_name": "Python 3",
   "language": "python",
   "name": "python3"
  },
  "language_info": {
   "codemirror_mode": {
    "name": "ipython",
    "version": 3
   },
   "file_extension": ".py",
   "mimetype": "text/x-python",
   "name": "python",
   "nbconvert_exporter": "python",
   "pygments_lexer": "ipython3",
   "version": "3.8.5"
  }
 },
 "nbformat": 4,
 "nbformat_minor": 4
}
